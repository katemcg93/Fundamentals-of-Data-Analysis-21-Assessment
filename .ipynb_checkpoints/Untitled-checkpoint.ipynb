{
 "cells": [
  {
   "cell_type": "markdown",
   "id": "dd43cd39-bb15-4bed-996d-9f4267910e43",
   "metadata": {
    "tags": []
   },
   "source": [
    "![CAO Logo](https://upload.wikimedia.org/wikipedia/commons/5/51/Central_Applications_Office.png)\n",
    "\n",
    "# CAO Points Analysis\n",
    "\n",
    "This notebook demonstrates how to gather and analyse CAO points data for level 8 courses over the last three years.\n",
    "\n",
    "The first part will discuss the various formats in which the points data is stored on the CAO website, and how to download these from the website using Python. Additionally, guidelines will be given on converting the points data to Pandas dataframes, which can then be used for further analysis.\n",
    "\n",
    "The second part will discuss the analysis that was performed on the resulting Pandas dataframes, with a particular focus on the following techniques:\n",
    "\n",
    "1. Merging the three distinct dataframes together for analysis on the full dataset\n",
    "2. Changing the shape of the dataset to get all three years on the same column for Seaborn plots\n",
    "3. Sorting/grouping the dataset to find maximum and minimum values for variables (e.g. course type)\n",
    "\n",
    "## Research Questions\n",
    "\n",
    "The following research questions will be used to organize the findings:\n",
    "\n",
    "1. What is the overall distribution of level 8 points values, and how has this changed over the past three years?\n",
    "2. What are the most popular areas of study (i.e. the areas in which the most courses are offered), and have points increased or decreased for these over the past three years?\n",
    "3. How does the distribution of points differ between Universities and Institutes of Technology (ITs)?\n",
    "4. What were the highest/lowest point courses each year?\n",
    "5. For the highest/lowest points of 2019, did these increase or decrease in popularity in 2020/21?\n",
    "\n",
    "This notebook will present the code required to answer these questions, the resulting data/plots, and discuss the results."
   ]
  },
  {
   "cell_type": "markdown",
   "id": "dbb39cb7-3d42-4a46-9ab0-41daee6f95f6",
   "metadata": {},
   "source": [
    "## Part 1: Points Data"
   ]
  },
  {
   "cell_type": "markdown",
   "id": "6e21a97d-5fe7-4987-b8f9-3e268d4ed6f8",
   "metadata": {
    "tags": []
   },
   "source": [
    "### 2021"
   ]
  },
  {
   "cell_type": "markdown",
   "id": "1d7344e0-452d-4450-b449-cf221165e9dd",
   "metadata": {},
   "source": [
    "The 2021 points data is stored as a webpage at the below address:\n",
    "\n",
    "http://www2.cao.ie/points/l8.php\n",
    "\n",
    "In order to convert this data into a format compatible with the Pandas dataframe, the following steps are required:\n",
    "\n",
    "1. Retrieve the data\n",
    "2. Back up the data as of the current/date and time and save it as a html file\n",
    "3. Create a regex pattern to detect course/points information only and filter out unnecessary detail\n",
    "4. Write all lines of the original webpage that match the regex statement to a CSV file\n",
    "5. Convert the compiled points data to a Pandas dataframe\n",
    "6. Change the R1/R2 points columns to numeric to facilitate further analysis. "
   ]
  },
  {
   "cell_type": "markdown",
   "id": "6db7765f-2515-4ffe-bd8a-9aefc76bd736",
   "metadata": {},
   "source": [
    "# Part 1: Retrieve Data\n",
    "\n",
    "The CAO course data for 2021 was, at the time I started this project, stored only in HTML format on the CAO website. In November the data was made available in an Excel format. However I have decided to keep the HTML format in this notebook to illustrate how data can be converted directly from a website to a format compatible with Pandas.\n",
    "\n",
    "Below is a screenshot showing the format of the data on the CAO website. "
   ]
  }
 ],
 "metadata": {
  "kernelspec": {
   "display_name": "Python 3 (ipykernel)",
   "language": "python",
   "name": "python3"
  },
  "language_info": {
   "codemirror_mode": {
    "name": "ipython",
    "version": 3
   },
   "file_extension": ".py",
   "mimetype": "text/x-python",
   "name": "python",
   "nbconvert_exporter": "python",
   "pygments_lexer": "ipython3",
   "version": "3.8.12"
  }
 },
 "nbformat": 4,
 "nbformat_minor": 5
}
