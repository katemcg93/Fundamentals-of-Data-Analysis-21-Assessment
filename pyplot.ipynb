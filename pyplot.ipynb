{
 "cells": [
  {
   "cell_type": "markdown",
   "id": "e2ce3990-5fc2-4f29-98f4-b7853e6c23ba",
   "metadata": {},
   "source": [
    "# Links collection\n",
    "- https://www.machinelearningplus.com/plots/top-50-matplotlib-visualizations-the-master-plots-python/\n",
    "- https://www.python-graph-gallery.com/\n",
    "- https://www.datacamp.com/community/tutorials/matplotlib-tutorial-python\n",
    "- http://datacamp-community-prod.s3.amazonaws.com/e1a8f39d-71ad-4d13-9a6b-618fe1b8c9e9\n",
    "- https://realpython.com/python-matplotlib-guide/\n",
    "- https://www.machinelearningplus.com/plots/matplotlib-tutorial-complete-guide-python-plot-examples/\n",
    "- https://www.tutorialspoint.com/matplotlib/matplotlib_pyplot_api.htm\n",
    "- https://towardsdatascience.com/matplotlib-tutorial-learn-basics-of-pythons-powerful-plotting-library-b5d1b8f67596\n",
    "- https://www.geeksforgeeks.org/matplotlib-tutorial/\n"
   ]
  }
 ],
 "metadata": {
  "kernelspec": {
   "display_name": "Python 3",
   "language": "python",
   "name": "python3"
  },
  "language_info": {
   "codemirror_mode": {
    "name": "ipython",
    "version": 3
   },
   "file_extension": ".py",
   "mimetype": "text/x-python",
   "name": "python",
   "nbconvert_exporter": "python",
   "pygments_lexer": "ipython3",
   "version": "3.8.8"
  }
 },
 "nbformat": 4,
 "nbformat_minor": 5
}
