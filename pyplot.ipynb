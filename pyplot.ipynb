{
 "cells": [
  {
   "cell_type": "markdown",
   "id": "e2ce3990-5fc2-4f29-98f4-b7853e6c23ba",
   "metadata": {},
   "source": [
    "# Links collection\n",
    "- https://www.machinelearningplus.com/plots/top-50-matplotlib-visualizations-the-master-plots-python/\n",
    "- https://www.python-graph-gallery.com/\n",
    "- https://www.datacamp.com/community/tutorials/matplotlib-tutorial-python\n",
    "- http://datacamp-community-prod.s3.amazonaws.com/e1a8f39d-71ad-4d13-9a6b-618fe1b8c9e9\n",
    "- https://realpython.com/python-matplotlib-guide/\n",
    "- https://www.machinelearningplus.com/plots/matplotlib-tutorial-complete-guide-python-plot-examples/\n",
    "- https://www.tutorialspoint.com/matplotlib/matplotlib_pyplot_api.htm\n",
    "- https://towardsdatascience.com/matplotlib-tutorial-learn-basics-of-pythons-powerful-plotting-library-b5d1b8f67596\n",
    "- https://www.geeksforgeeks.org/matplotlib-tutorial/\n"
   ]
  },
  {
   "cell_type": "markdown",
   "id": "317f5964-d9cb-411a-bff1-830be5717947",
   "metadata": {},
   "source": [
    "# Section One : Overview of Data Visualisation and Matplotlib\n",
    "\n",
    "## Data Visualisation Definition\n",
    "\n",
    "Data visualization is the process of taking raw data and converting it to a format easily absorbed by the human brain, such as an image, chart or plot. The main goal of visualization is to help identify trends and patterns in data, as well as outliers. These insights can then be used to aid the decision-making process [1]. \n",
    "\n",
    "\n",
    "## Importance of Visualisation\n",
    "\n",
    "In the era of Big Data, the ability to make sense of the trillions of rows of raw data generated daily is essential; visualisation is integral to this process. [2]. Data visualisation is useful for cleaning data and understanding its structure, detecting outliers or unexpected patterns, evaluating the validity of model output and presenting results. Images often reveal features of the dataset that are overlooked by statistics and models, such as unusual distributions of data, clusters, outliers and missing values [3]. \n",
    "\n",
    "As well as improving our understanding of a dataset, visualisation can help us communicate our findings more effectively. Good visualisation uses data to tell a story, filtering out the noise and keeping only the actionable insights. Easily understandable data benefits almost every industry: all areas of STEM, government, marketing, finance, sports, consumer goods and so on. Effective visualisation can help stakeholders from any field understand their data and use it to make informed decisions [2].\n",
    "\n",
    "\n",
    "## Data Visualisation and Python\n",
    "\n",
    "The increased relevance of Data Visualisation has led to a rise in BI (Business Intelligence) tools to "
   ]
  },
  {
   "cell_type": "markdown",
   "id": "7b030e65-1022-4fc7-b454-a613acb16a51",
   "metadata": {},
   "source": [
    "# References\n",
    "1. SearchBusinessAnalytics. 2021. What is data visualization and why is it important?. [online] Available at: <https://searchbusinessanalytics.techtarget.com/definition/data-visualization> [Accessed 17 October 2021].\n",
    "2. Tableau. 2021. What Is Data Visualization? Definition, Examples, And Learning Resources. [online] Available at: <https://www.tableau.com/learn/articles/data-visualization> [Accessed 17 October 2021].\n",
    "3. "
   ]
  },
  {
   "cell_type": "code",
   "execution_count": null,
   "id": "7a14e6f4-0ed4-41ea-90df-42f5dba34fbb",
   "metadata": {},
   "outputs": [],
   "source": []
  },
  {
   "cell_type": "code",
   "execution_count": null,
   "id": "c602d3b9-232f-46a8-8206-9e4336c6f2e6",
   "metadata": {},
   "outputs": [],
   "source": []
  },
  {
   "cell_type": "code",
   "execution_count": null,
   "id": "a4666efd-c748-4935-b661-8ed3cf6da6d8",
   "metadata": {},
   "outputs": [],
   "source": []
  },
  {
   "cell_type": "code",
   "execution_count": null,
   "id": "4aed4b2b-f2d6-4089-a24c-8d7e09700819",
   "metadata": {},
   "outputs": [],
   "source": []
  },
  {
   "cell_type": "code",
   "execution_count": null,
   "id": "a4dc8ce4-ceec-4cbe-af9b-e026325d8e0f",
   "metadata": {},
   "outputs": [],
   "source": []
  }
 ],
 "metadata": {
  "kernelspec": {
   "display_name": "Python 3",
   "language": "python",
   "name": "python3"
  },
  "language_info": {
   "codemirror_mode": {
    "name": "ipython",
    "version": 3
   },
   "file_extension": ".py",
   "mimetype": "text/x-python",
   "name": "python",
   "nbconvert_exporter": "python",
   "pygments_lexer": "ipython3",
   "version": "3.8.8"
  }
 },
 "nbformat": 4,
 "nbformat_minor": 5
}
