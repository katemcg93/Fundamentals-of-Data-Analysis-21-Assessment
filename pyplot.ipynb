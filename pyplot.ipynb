{
 "cells": [
  {
   "cell_type": "markdown",
   "id": "e2ce3990-5fc2-4f29-98f4-b7853e6c23ba",
   "metadata": {},
   "source": [
    "# Links collection\n",
    "- https://www.machinelearningplus.com/plots/top-50-matplotlib-visualizations-the-master-plots-python/\n",
    "- https://www.python-graph-gallery.com/\n",
    "- https://www.datacamp.com/community/tutorials/matplotlib-tutorial-python\n",
    "- http://datacamp-community-prod.s3.amazonaws.com/e1a8f39d-71ad-4d13-9a6b-618fe1b8c9e9\n",
    "- https://realpython.com/python-matplotlib-guide/\n",
    "- https://www.machinelearningplus.com/plots/matplotlib-tutorial-complete-guide-python-plot-examples/\n",
    "- https://www.tutorialspoint.com/matplotlib/matplotlib_pyplot_api.htm\n",
    "- https://towardsdatascience.com/matplotlib-tutorial-learn-basics-of-pythons-powerful-plotting-library-b5d1b8f67596\n",
    "- https://www.geeksforgeeks.org/matplotlib-tutorial/\n"
   ]
  },
  {
   "cell_type": "markdown",
   "id": "317f5964-d9cb-411a-bff1-830be5717947",
   "metadata": {},
   "source": [
    "# Plan for Project\n",
    "\n",
    "### Section 1: Intro to Matplotlib and Pyplot\n",
    "\n",
    "#### Data Visualization using Python Libraries\n",
    "\n",
    "- Data Visualization is the presentation of information in a format easily understood by humans.\n",
    "- Most common visual formats - charts, graphs, maps, other pictorial representation\n",
    "- Key step in the data science process - after collecting and processing/modelling data, should be visualized to ensure correct conclusions are drawn. Put in 6 steps image\n",
    "- Why is it important - converting data to a more intuitive format allows decision makers to grasp complex topics, identify trends and address business problems.\n",
    "- Several tools available for data visualization, python being the most popular as it has several libraries built specifically for this purpose. Give examples\n",
    "\n",
    "\n",
    "### Matplotlib and Pyplot\n",
    "\n",
    "- Matplotlib is one of the most popular data visualization packages built on Python.\n",
    "- Developed by John D Hunter in 2002, as an open-source alternative to MATLAB. MATLAB is an interactive programme designed for numerical computation and data analysis/visualization. It is a close-source, proprietary software package owned by Mathworks, hence the interest in an open-source counterpart. \n",
    "- Pyplot is a module within the Matplotlib package, and is "
   ]
  },
  {
   "cell_type": "code",
   "execution_count": null,
   "id": "7383efb0-a7fc-45cb-90d2-0e32ae9b5747",
   "metadata": {},
   "outputs": [],
   "source": []
  },
  {
   "cell_type": "code",
   "execution_count": null,
   "id": "7a14e6f4-0ed4-41ea-90df-42f5dba34fbb",
   "metadata": {},
   "outputs": [],
   "source": []
  },
  {
   "cell_type": "code",
   "execution_count": null,
   "id": "c602d3b9-232f-46a8-8206-9e4336c6f2e6",
   "metadata": {},
   "outputs": [],
   "source": []
  },
  {
   "cell_type": "code",
   "execution_count": null,
   "id": "a4666efd-c748-4935-b661-8ed3cf6da6d8",
   "metadata": {},
   "outputs": [],
   "source": []
  },
  {
   "cell_type": "code",
   "execution_count": null,
   "id": "4aed4b2b-f2d6-4089-a24c-8d7e09700819",
   "metadata": {},
   "outputs": [],
   "source": []
  },
  {
   "cell_type": "code",
   "execution_count": null,
   "id": "a4dc8ce4-ceec-4cbe-af9b-e026325d8e0f",
   "metadata": {},
   "outputs": [],
   "source": []
  }
 ],
 "metadata": {
  "kernelspec": {
   "display_name": "Python 3",
   "language": "python",
   "name": "python3"
  },
  "language_info": {
   "codemirror_mode": {
    "name": "ipython",
    "version": 3
   },
   "file_extension": ".py",
   "mimetype": "text/x-python",
   "name": "python",
   "nbconvert_exporter": "python",
   "pygments_lexer": "ipython3",
   "version": "3.8.8"
  }
 },
 "nbformat": 4,
 "nbformat_minor": 5
}
