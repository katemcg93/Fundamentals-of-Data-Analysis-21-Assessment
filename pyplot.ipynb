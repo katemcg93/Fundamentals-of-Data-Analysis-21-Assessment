{
 "cells": [
  {
   "cell_type": "markdown",
   "id": "e2ce3990-5fc2-4f29-98f4-b7853e6c23ba",
   "metadata": {},
   "source": [
    "# Links collection\n",
    "- https://www.machinelearningplus.com/plots/top-50-matplotlib-visualizations-the-master-plots-python/\n",
    "- https://www.python-graph-gallery.com/\n",
    "- https://www.datacamp.com/community/tutorials/matplotlib-tutorial-python\n",
    "- http://datacamp-community-prod.s3.amazonaws.com/e1a8f39d-71ad-4d13-9a6b-618fe1b8c9e9\n",
    "- https://realpython.com/python-matplotlib-guide/\n",
    "- https://www.machinelearningplus.com/plots/matplotlib-tutorial-complete-guide-python-plot-examples/\n",
    "- https://www.tutorialspoint.com/matplotlib/matplotlib_pyplot_api.htm\n",
    "- https://towardsdatascience.com/matplotlib-tutorial-learn-basics-of-pythons-powerful-plotting-library-b5d1b8f67596\n",
    "- https://www.geeksforgeeks.org/matplotlib-tutorial/\n"
   ]
  },
  {
   "cell_type": "markdown",
   "id": "317f5964-d9cb-411a-bff1-830be5717947",
   "metadata": {},
   "source": [
    "# Section One : Overview of Data Visualisation and Matplotlib\n",
    "\n",
    "## What is Data Visualization?\n",
    "\n",
    "Data visualization is the process of taking raw data and converting it to a format easily absorbed by the human brain, such as an image, chart or plot. The main goal of visualization is to help identify trends and patterns in data, as well as outliers. These insights can then be used to aid the decision-making process [1]. \n",
    "\n",
    "In the era of Big Data, the ability to make sense of the trillions of rows of raw data generated daily is essential; visualisation is integral to this process. [2]. Data visualisation is useful for cleaning data and understanding its structure, detecting outliers or unexpected patterns, evaluating the validity of model output and presenting results. Images often reveal features of the dataset that are overlooked by statistics and models, such as unusual distributions of data, clusters, outliers and missing values [3]. \n",
    "\n",
    "As well as improving our understanding of a dataset, visualisation can help us communicate our findings more effectively. Good visualisation uses data to tell a story, filtering out the noise and keeping only the actionable insights. Easily understandable data benefits almost every industry: all areas of STEM, government, marketing, finance, sports, consumer goods and so on. Effective visualisation can help stakeholders from any field understand their data and use it to make informed decisions [2].\n",
    "\n",
    "\n",
    "## Data Visualisation and Python\n",
    "\n",
    "As the relevance of data visualization has grown, so has the variety of Business Intelligence (BI) tools created for this purpose. These range from proprietary software packages like Microsoft's Power BI and Tableau, to libraries built on programming languages like Python. As well as being open-source and accessible to beginners, Python is highly flexible and can be adapted to a wide range of use cases. Therefore, several graphing libraries have been built on Python with an extensive range of features.  \n",
    "\n",
    "## Overview of Matplotlib\n",
    "\n",
    "One of the most widely used Python graphing libraries is Matplotlib. Matplotlib allows users to create two-dimensional plots of data from a range of sources, including lists, numpy arrays and pandas dataframes. \n",
    "\n",
    "Matplotlib uses an object-oriented approach to plotting, meaning that plots can be built step by step by adding additional elements to them. This gives users a high level of control over the plots they create and lends itself to a high degree of customizabilty. \n",
    "\n",
    "There are two main objects associated with a matplotlib plot:\n",
    "1. Figure: The entire plot space, which can hold one or more axes\n",
    "2. Axis : Axes are the individual plots that are rendered within the figure.\n",
    "\n",
    "Note that in Matplotlib, the axes refer to the plot in its entirety, including the x and y axes, as illustrated below. \n",
    "\n",
    "![Matplotlib Plot Components](https://files.realpython.com/media/fig_map.bc8c7cabd823.png)\n",
    "\n",
    "Almost all elements of a matplotlib plot, up to and including ticks and labels, has its own callable object and can therefore be customized.\n",
    "\n",
    "## MATLAB and Pyplot\n",
    "\n",
    "MATLAB is a high-performance language designed for mathematical computing. Some common use cases for MATLAB include:\n",
    "\n",
    " - Algorithm development\n",
    " - Modelling, simulating and prototyping\n",
    " - Data Analysis, exploration and visualization\n",
    " \n",
    "MATLAB is well-established as a high-quality environment for computation and data analysis, particularly when working with arrays or matrices. However, in recent years Python has become increasingly popular for these purposes, and its computational power for mathematical tasks is on a par with MATLAB. Additionally, Python is open-source while MATLAB is proprietary and expensive, meaning a programme developed in MATLAB will reach a much smaller audience than one developed in Python. \n",
    "\n",
    "Hence, MATLAB programmers are converting to Python, and the pyplot module is designed to ease this transition by emulating MATLAB's global style. In MATLAB, the concept of importing is less prevalent than in Python, and most functions are available to the user at the top level, without the need for additional import commands. The main purpose of the pyplot module is to bring functions and classes from MATLAB and python directly into the namespace, which means that users can call them without additional import statements. \n",
    "\n",
    "## Getting Started with Matplotlib and Pyplot"
   ]
  },
  {
   "cell_type": "markdown",
   "id": "5ef29992-3a6f-4a35-80a4-aaa63f6a4c19",
   "metadata": {},
   "source": [
    "The Anaconda distribution of python comes with matplotlib pre-installed with no further steps required. If Anaconda has not been installed on your PC, matplotlib can be downloaded on its own as the only prerequisite is Python itself.\n",
    "\n",
    "The following command can be used to install Matplotlib on your PC:"
   ]
  },
  {
   "cell_type": "code",
   "execution_count": null,
   "id": "c602d3b9-232f-46a8-8206-9e4336c6f2e6",
   "metadata": {},
   "outputs": [],
   "source": [
    "pip install matplotlib"
   ]
  },
  {
   "cell_type": "markdown",
   "id": "7624e57a-e9be-451e-a29c-4c207ad32a23",
   "metadata": {},
   "source": [
    "To use the pyplot package, the following command should be run at the beginning of the programme:"
   ]
  },
  {
   "cell_type": "code",
   "execution_count": 4,
   "id": "a4dc8ce4-ceec-4cbe-af9b-e026325d8e0f",
   "metadata": {},
   "outputs": [],
   "source": [
    "import matplotlib\n",
    "import matplotlib.pyplot as plt"
   ]
  },
  {
   "cell_type": "markdown",
   "id": "ebf66f96-acc4-4358-aca6-30069a8063a9",
   "metadata": {},
   "source": [
    "The below command can be used to check the version of matplotlib installed on your machine. Note that the latest release is version 3.5.1."
   ]
  },
  {
   "cell_type": "code",
   "execution_count": 5,
   "id": "74bdef9b-c675-43dc-bb2d-c9c6cc0eaa58",
   "metadata": {},
   "outputs": [
    {
     "name": "stdout",
     "output_type": "stream",
     "text": [
      "3.5.1\n"
     ]
    }
   ],
   "source": [
    "print(matplotlib.__version__)"
   ]
  },
  {
   "cell_type": "markdown",
   "id": "486b329a-d743-4631-bda3-fc8bb47e6fe9",
   "metadata": {},
   "source": [
    "## Pyplot Object Hierarchy and Stateful/Stateless Approaches"
   ]
  },
  {
   "cell_type": "markdown",
   "id": "556e8b7b-f294-4086-b959-6e4698d1a7ad",
   "metadata": {},
   "source": [
    "A matplotlib plot consists of a hierarchy of Python objects. \n",
    "\n",
    "- Figure: As already mentioned in this report, the Figure is the outermost object in the hierarchy, and is the container for all plot elements. It is the final image that contains one or more axes, and keeps track of all the axes. Note that the figure is only a container, and it is not possible to directly plot data onto it.\n",
    "- Axes: Area on which data can be plotted. A single figure can contain multiple axes, but a given axes object can only be in one figure. The axes contain most of the other plot elements - axis, tick, plotlines, text etc.\n",
    "- Axis : This object is similar to a number line, and takes care of setting graph limits, generating ticks (marks on the axis) and tick labels (strings that label the ticks). The location of the ticks is determined by a Locator object, and the tick labels are modified by a Formatter. When the Locator and Formatter objects are used in tandem, this gives a high degree of control over tick locations and labels. \n",
    "- Artist: The artist object encompasses everything that is visible on the figure, including the figure, Axes and Axes objects. When the plotted figure is rendered, all of the artists are drawn to the canvas. A given artist can only be in one axes object."
   ]
  },
  {
   "cell_type": "code",
   "execution_count": null,
   "id": "899d6a59-03c3-460a-8ef3-1b4bccfaae8c",
   "metadata": {},
   "outputs": [],
   "source": []
  }
 ],
 "metadata": {
  "kernelspec": {
   "display_name": "Python 3 (ipykernel)",
   "language": "python",
   "name": "python3"
  },
  "language_info": {
   "codemirror_mode": {
    "name": "ipython",
    "version": 3
   },
   "file_extension": ".py",
   "mimetype": "text/x-python",
   "name": "python",
   "nbconvert_exporter": "python",
   "pygments_lexer": "ipython3",
   "version": "3.8.12"
  }
 },
 "nbformat": 4,
 "nbformat_minor": 5
}
