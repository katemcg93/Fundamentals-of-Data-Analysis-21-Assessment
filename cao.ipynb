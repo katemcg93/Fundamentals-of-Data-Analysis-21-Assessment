{
 "cells": [
  {
   "cell_type": "markdown",
   "id": "dd43cd39-bb15-4bed-996d-9f4267910e43",
   "metadata": {
    "tags": []
   },
   "source": [
    "![CAO Logo](https://upload.wikimedia.org/wikipedia/commons/5/51/Central_Applications_Office.png)\n",
    "\n",
    "# CAO Points Analysis\n",
    "\n",
    "This notebook demonstrates how to gather and analyse CAO points data for level 8 courses over the last three years.\n",
    "\n",
    "The first part will discuss the various formats in which the points data is stored on the CAO website, and how to download these from the website using Python. Additionally, guidelines will be given on converting the points data to Pandas dataframes, which can then be used for further analysis.\n",
    "\n",
    "The second part will discuss the analysis that was performed on the resulting Pandas dataframes, with a particular focus on the following techniques:\n",
    "\n",
    "1. Merging the three distinct dataframes together for analysis on the full dataset\n",
    "2. Changing the shape of the dataset to get all three years on the same column for Seaborn plots\n",
    "3. Sorting/grouping the dataset to find maximum and minimum values for variables (e.g. course type)\n",
    "\n",
    "## Research Questions\n",
    "\n",
    "The following research questions will be used to organize the findings:\n",
    "\n",
    "1. What is the overall distribution of level 8 points values, and how has this changed over the past three years?\n",
    "2. What are the most popular areas of study (i.e. the areas in which the most courses are offered), and have points increased or decreased for these over the past three years?\n",
    "3. How does the distribution of points differ between Universities and Institutes of Technology (ITs)?\n",
    "4. What were the highest/lowest point courses each year?\n",
    "5. For the highest/lowest points of 2019, did these increase or decrease in popularity in 2020/21?\n",
    "\n",
    "This notebook will present the code required to answer these questions, the resulting data/plots, and discuss the results."
   ]
  },
  {
   "cell_type": "markdown",
   "id": "dbb39cb7-3d42-4a46-9ab0-41daee6f95f6",
   "metadata": {},
   "source": [
    "## Part 1: Points Data"
   ]
  },
  {
   "cell_type": "markdown",
   "id": "6e21a97d-5fe7-4987-b8f9-3e268d4ed6f8",
   "metadata": {
    "tags": []
   },
   "source": [
    "### 2021"
   ]
  },
  {
   "cell_type": "markdown",
   "id": "1d7344e0-452d-4450-b449-cf221165e9dd",
   "metadata": {},
   "source": [
    "The 2021 points data is stored as a webpage at the below address:\n",
    "\n",
    "http://www2.cao.ie/points/l8.php\n",
    "\n",
    "In order to convert this data into a format compatible with the Pandas dataframe, the following steps are required:\n",
    "\n",
    "1. Retrieve the data\n",
    "2. Back up the data as of the current/date and time and save it as a html file\n",
    "3. Create a regex pattern to detect course/points information only and filter out unnecessary detail\n",
    "4. Write all lines of the original webpage that match the regex statement to a CSV file\n",
    "5. Convert the compiled points data to a Pandas dataframe\n",
    "6. Change the R1/R2 points columns to numeric to facilitate further analysis. "
   ]
  },
  {
   "cell_type": "markdown",
   "id": "6db7765f-2515-4ffe-bd8a-9aefc76bd736",
   "metadata": {},
   "source": [
    "#### Part 1: Retrieve and Back Up Data\n",
    "\n",
    "The CAO course data for 2021 was, at the time I started this project, available only in HTML format on the CAO website. In November the data was made available in an Excel format. However I have decided to keep the HTML format in this notebook to illustrate how data can be converted directly from a website to a format compatible with Pandas.\n",
    "\n",
    "The data is obtained from the CAO website using the requests module, which allows you to send a HTTP request to a webpage. The HTTP request then returns a **response** object, which contains the content, encoding and status of the webpage.\n",
    "\n",
    "The webpage content must then be backed up at the time/date the HTTP request was made. This is done by constructing a filepath including the current system date and time, and writing the text contents to a HTML file. \n",
    "\n",
    "Note that an encoding parameter must be passed to convert the webpage data to readable text. According to the web server, the character set used to encode this website is ISO 8859-1 (as seen in below code), this cannot be used as the encoding parameter due to one character that is incompatible with this standard."
   ]
  },
  {
   "cell_type": "code",
   "execution_count": 5,
   "id": "6d2737ff-33b8-4fb0-a7f6-139328d96a59",
   "metadata": {},
   "outputs": [
    {
     "name": "stdout",
     "output_type": "stream",
     "text": [
      "iso-8859-1\n"
     ]
    }
   ],
   "source": [
    "import re\n",
    "import urllib\n",
    "import requests as rq\n",
    "import datetime as dt\n",
    "import os\n",
    "import pandas as pd\n",
    "from urllib.request import urlopen\n",
    "\n",
    "response = urlopen('http://www2.cao.ie/points/l8.php')\n",
    "charset = response.headers.get_content_charset()\n",
    "print(charset)"
   ]
  },
  {
   "cell_type": "markdown",
   "id": "73e74276-294e-4917-b7ee-625fff893382",
   "metadata": {},
   "source": [
    "Instead, the CP1252 standard must be used to decode the webpage, as this supports the character (x96) that is not compatible with ISO 8859-1.\n",
    "\n",
    "The code to decode and back up the data is given below. "
   ]
  },
  {
   "cell_type": "code",
   "execution_count": 6,
   "id": "a81a39e5-abf1-4cdd-86ec-ba36412f37e1",
   "metadata": {},
   "outputs": [
    {
     "name": "stdout",
     "output_type": "stream",
     "text": [
      "Data saved to C:\\Users\\Owner\\Desktop\\Fundamentals-of-Data-Analysis-21-Assessment\\Points_Data\\cao202120211229_141721.html\n"
     ]
    }
   ],
   "source": [
    "#Getting current date and time so unique, up to date version of site is saved each time code is run\n",
    "#Note that underscores are being used instead of slashes, as slashes will cause issues when generating the file path\n",
    "\n",
    "timenow = dt.datetime.now()\n",
    "nowstrng = timenow.strftime('%Y%m%d_%H%M%S')\n",
    "\n",
    "#Getting current directory to pass to filepath variable\n",
    "currentpath = os.getcwd()\n",
    "\n",
    "#Getting data from CAO site\n",
    "resp = rq.get('http://www2.cao.ie/points/l8.php')\n",
    "\n",
    "#Constructing filepath\n",
    "filepath  = currentpath + '\\\\' + 'Points_Data'+ '\\\\' + 'cao2021'+ nowstrng + '.html'\n",
    "csvfilepath = currentpath + '\\\\' +'Points_Data'+ '\\\\'+ 'cao2021' + nowstrng + '.csv'\n",
    "\n",
    "#Changing encoding from iso-8859-1 to cp1252, one line uses an x96 character (-) which is not supported in iso-8859-1. \n",
    "#If encoding is not changed the file won't be decoded\n",
    "original_encoding = resp.encoding\n",
    "resp.encoding = 'cp1252'\n",
    "\n",
    "#Writing html text to file so original format is stored on repository\n",
    "with open(filepath, \"w\") as f:\n",
    "    f.write(resp.text)\n",
    "\n",
    "print(\"Data saved to {}\".format(filepath))"
   ]
  },
  {
   "cell_type": "code",
   "execution_count": null,
   "id": "caebf87a-0a62-43e7-b2e3-6218bcd89a51",
   "metadata": {},
   "outputs": [],
   "source": []
  },
  {
   "cell_type": "code",
   "execution_count": null,
   "id": "4175f36b-440f-4381-83aa-d8d86e98379d",
   "metadata": {},
   "outputs": [],
   "source": []
  },
  {
   "cell_type": "code",
   "execution_count": null,
   "id": "e87b19df-fdd4-48d9-addc-020a66060ac1",
   "metadata": {},
   "outputs": [],
   "source": []
  },
  {
   "cell_type": "markdown",
   "id": "6cdc489c-1d87-4fcb-9e97-ff11a016118c",
   "metadata": {},
   "source": [
    "Below is a screenshot showing the format of the data on the CAO website."
   ]
  },
  {
   "cell_type": "markdown",
   "id": "07d13676-9a3a-4af4-b7f4-c3afc7a604c2",
   "metadata": {},
   "source": [
    "##### Figure 1: CAO Website Points 2021"
   ]
  },
  {
   "attachments": {
    "e067c0bd-db95-4b30-97b0-ed86fa8eba2d.PNG": {
     "image/png": "[encoded data removed]"
    }
   },
   "cell_type": "markdown",
   "id": "1b407caa-22e8-4d89-b112-477286439025",
   "metadata": {},
   "source": [
    "![Points Screen Capture.PNG](attachment:e067c0bd-db95-4b30-97b0-ed86fa8eba2d.PNG)"
   ]
  },
  {
   "cell_type": "markdown",
   "id": "aca4a1c5-6a5c-4818-8145-31f1960acc8c",
   "metadata": {},
   "source": [
    "As seen in the screenshot, several elements of the webpage are not required for our purposes, such as the title and links to certain areas of the page.\n",
    "\n",
    "We can also see that the points data follows a specific format. First, the course code is listed, then the name, then the Round 1 and 2 points for that course. Therefore, constructing a regex statement that captures data in this format and applying it to all lines in the webpage should allow us to only extract \n",
    "\n"
   ]
  }
 ],
 "metadata": {
  "kernelspec": {
   "display_name": "Python 3 (ipykernel)",
   "language": "python",
   "name": "python3"
  },
  "language_info": {
   "codemirror_mode": {
    "name": "ipython",
    "version": 3
   },
   "file_extension": ".py",
   "mimetype": "text/x-python",
   "name": "python",
   "nbconvert_exporter": "python",
   "pygments_lexer": "ipython3",
   "version": "3.8.12"
  }
 },
 "nbformat": 4,
 "nbformat_minor": 5
}
