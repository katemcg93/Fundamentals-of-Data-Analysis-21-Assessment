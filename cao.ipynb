{
 "cells": [
  {
   "cell_type": "markdown",
   "id": "dd43cd39-bb15-4bed-996d-9f4267910e43",
   "metadata": {
    "tags": []
   },
   "source": [
    "![CAO Logo](https://upload.wikimedia.org/wikipedia/commons/5/51/Central_Applications_Office.png)\n",
    "\n",
    "# CAO Points Analysis\n",
    "\n",
    "This notebook demonstrates how to gather and analyse CAO points data for level 8 courses over the last three years.\n",
    "\n",
    "The first part will discuss the various formats in which the points data is stored on the CAO website, and how to download these from the website using Python. Additionally, guidelines will be given on converting the points data to Pandas dataframes, which can then be used for further analysis.\n",
    "\n",
    "The second part will discuss the analysis that was performed on the resulting Pandas dataframes, with a particular focus on the following techniques:\n",
    "\n",
    "1. Merging the three distinct dataframes together for analysis on the full dataset\n",
    "2. Changing the shape of the dataset to get all three years on the same column for Seaborn plots\n",
    "3. Sorting/grouping the dataset to find maximum and minimum values for variables (e.g. course type)\n",
    "\n",
    "## Research Questions\n",
    "\n",
    "The following research questions will be used to organize the findings:\n",
    "\n",
    "1. What is the overall distribution of level 8 points values, and how has this changed over the past three years?\n",
    "2. What are the most popular areas of study (i.e. the areas in which the most courses are offered), and have points increased or decreased for these over the past three years?\n",
    "3. How does the distribution of points differ between Universities and Institutes of Technology (ITs)?\n",
    "4. What were the highest/lowest point courses each year?\n",
    "5. For the highest/lowest points of 2019, did these increase or decrease in popularity in 2020/21?\n",
    "\n",
    "This notebook will present the code required to answer these questions, the resulting data/plots, and discuss the results."
   ]
  },
  {
   "cell_type": "markdown",
   "id": "dbb39cb7-3d42-4a46-9ab0-41daee6f95f6",
   "metadata": {
    "tags": []
   },
   "source": [
    "## Part 1: Points Data"
   ]
  },
  {
   "cell_type": "markdown",
   "id": "6e21a97d-5fe7-4987-b8f9-3e268d4ed6f8",
   "metadata": {
    "jp-MarkdownHeadingCollapsed": true,
    "tags": []
   },
   "source": [
    "### 2021"
   ]
  },
  {
   "cell_type": "markdown",
   "id": "1d7344e0-452d-4450-b449-cf221165e9dd",
   "metadata": {},
   "source": [
    "The 2021 points data is stored as a webpage at the below address:\n",
    "\n",
    "http://www2.cao.ie/points/l8.php\n",
    "\n",
    "In order to convert this data into a format compatible with the Pandas dataframe, the following steps are required:\n",
    "\n",
    "1. Retrieve the data\n",
    "2. Back up the data as of the current/date and time and save it as a html file\n",
    "3. Create a regex pattern to detect course/points information only and filter out unnecessary detail\n",
    "4. Write all lines of the original webpage that match the regex statement to a CSV file\n",
    "5. Convert the compiled points data to a Pandas dataframe\n",
    "6. Change the R1/R2 points columns to numeric to facilitate further analysis. "
   ]
  },
  {
   "cell_type": "markdown",
   "id": "6db7765f-2515-4ffe-bd8a-9aefc76bd736",
   "metadata": {},
   "source": [
    "#### Part 1: Retrieve and Back Up Data\n",
    "\n",
    "The CAO course data for 2021 was, at the time I started this project, available only in HTML format on the CAO website. In November the data was made available in an Excel format. However I have decided to keep the HTML format in this notebook to illustrate how data can be converted directly from a website to a format compatible with Pandas.\n",
    "\n",
    "The data is obtained from the CAO website using the requests module, which allows you to send a HTTP request to a webpage. The HTTP request then returns a **response** object, which contains the content, encoding and status of the webpage.\n",
    "\n",
    "The webpage content must then be backed up at the time/date the HTTP request was made. This is done by constructing a filepath including the current system date and time, and writing the text contents to a HTML file. \n",
    "\n",
    "Note that an encoding parameter must be passed to convert the webpage data to readable text. According to the web server, the character set used to encode this website is ISO 8859-1 (as seen in below code), this cannot be used as the encoding parameter due to one character that is incompatible with this standard."
   ]
  },
  {
   "cell_type": "code",
   "execution_count": 5,
   "id": "6d2737ff-33b8-4fb0-a7f6-139328d96a59",
   "metadata": {},
   "outputs": [
    {
     "name": "stdout",
     "output_type": "stream",
     "text": [
      "iso-8859-1\n"
     ]
    }
   ],
   "source": [
    "import re\n",
    "import urllib\n",
    "import requests as rq\n",
    "import datetime as dt\n",
    "import os\n",
    "import pandas as pd\n",
    "from urllib.request import urlopen\n",
    "\n",
    "response = urlopen('http://www2.cao.ie/points/l8.php')\n",
    "charset = response.headers.get_content_charset()\n",
    "print(charset)"
   ]
  },
  {
   "cell_type": "markdown",
   "id": "73e74276-294e-4917-b7ee-625fff893382",
   "metadata": {},
   "source": [
    "Instead, the CP1252 standard must be used to decode the webpage, as this supports the character (x96) that is not compatible with ISO 8859-1.\n",
    "\n",
    "The code to decode and back up the data is given below. "
   ]
  },
  {
   "cell_type": "code",
   "execution_count": 6,
   "id": "a81a39e5-abf1-4cdd-86ec-ba36412f37e1",
   "metadata": {},
   "outputs": [
    {
     "name": "stdout",
     "output_type": "stream",
     "text": [
      "Data saved to C:\\Users\\Owner\\Desktop\\Fundamentals-of-Data-Analysis-21-Assessment\\Points_Data\\cao202120211230_112042.html\n"
     ]
    }
   ],
   "source": [
    "#Getting current date and time so unique, up to date version of site is saved each time code is run\n",
    "#Note that underscores are being used instead of slashes, as slashes will cause issues when generating the file path\n",
    "\n",
    "timenow = dt.datetime.now()\n",
    "nowstrng = timenow.strftime('%Y%m%d_%H%M%S')\n",
    "\n",
    "#Getting current directory to pass to filepath variable\n",
    "currentpath = os.getcwd()\n",
    "\n",
    "#Getting data from CAO site\n",
    "resp = rq.get('http://www2.cao.ie/points/l8.php')\n",
    "\n",
    "#Constructing filepath\n",
    "filepath  = currentpath + '\\\\' + 'Points_Data'+ '\\\\' + 'cao2021'+ nowstrng + '.html'\n",
    "csvfilepath = currentpath + '\\\\' +'Points_Data'+ '\\\\'+ 'cao2021' + nowstrng + '.csv'\n",
    "\n",
    "#Changing encoding from iso-8859-1 to cp1252, one line uses an x96 character (-) which is not supported in iso-8859-1. \n",
    "#If encoding is not changed the file won't be decoded\n",
    "original_encoding = resp.encoding\n",
    "resp.encoding = 'cp1252'\n",
    "\n",
    "#Writing html text to file so original format is stored on repository\n",
    "with open(filepath, \"w\") as f:\n",
    "    f.write(resp.text)\n",
    "\n",
    "print(\"Data saved to {}\".format(filepath))"
   ]
  },
  {
   "cell_type": "markdown",
   "id": "7fa31518-a166-48e1-8ff2-539ea461c256",
   "metadata": {},
   "source": [
    "#### Part 2: Extract Points Data and Export to CSV"
   ]
  },
  {
   "cell_type": "markdown",
   "id": "6cdc489c-1d87-4fcb-9e97-ff11a016118c",
   "metadata": {},
   "source": [
    "Below is a screenshot showing the format of the 2021 points webpage. "
   ]
  },
  {
   "cell_type": "markdown",
   "id": "07d13676-9a3a-4af4-b7f4-c3afc7a604c2",
   "metadata": {},
   "source": [
    "##### Figure 1: CAO Website Points 2021"
   ]
  },
  {
   "attachments": {
    "e067c0bd-db95-4b30-97b0-ed86fa8eba2d.PNG": {
     "image/png": "[encoded data removed]"
    }
   },
   "cell_type": "markdown",
   "id": "1b407caa-22e8-4d89-b112-477286439025",
   "metadata": {},
   "source": [
    "![Points Screen Capture.PNG](attachment:e067c0bd-db95-4b30-97b0-ed86fa8eba2d.PNG)"
   ]
  },
  {
   "cell_type": "markdown",
   "id": "aca4a1c5-6a5c-4818-8145-31f1960acc8c",
   "metadata": {},
   "source": [
    "As seen in the screenshot, several elements of the webpage are not required for our purposes, such as the title and links to certain areas of the page.\n",
    "\n",
    "We can also see that the points data follows a specific format. First, the course code is listed, then the name, then the Round 1 and 2 points for that course. Therefore, constructing a regex statement that captures data in this format and applying it to all lines in the webpage should allow us to only extract lines relating to courses and points.\n",
    "\n",
    "The code to extract the data and back it up to a csv file is given below. First a regex sequence is defined. A regex, or regular expression, is a sequence of characters which form a search pattern. This pattern then can be used to check if a string matches this pattern. \n",
    "\n",
    "To apply regular expressions to our stored webpage, the regex (re) inbuilt Python module is used. In conjunction with a regex sequence, we will use the compile method to store  \n",
    "\n",
    "This expression consists of two alphabetic characters (representing a college, e.g. CK for UCC), 3 numerical characters (the course code), and any detail following the course ID such as title and round 1/2 points."
   ]
  },
  {
   "cell_type": "code",
   "execution_count": 7,
   "id": "81fe7e99-1edc-44f0-825a-95c4c9961dce",
   "metadata": {},
   "outputs": [
    {
     "name": "stdout",
     "output_type": "stream",
     "text": [
      "Total number of lines is 949.\n"
     ]
    }
   ],
   "source": [
    "#Regex Statement to identify lines containing course data\n",
    "#First section finds course code - 1 letter and three numbers\n",
    "#Next section retrieves all other info - course name, points etc\n",
    "coursematch = re.compile(r'([A-Z]{2}[0-9]{3})(.*)')\n",
    "\n",
    "#Check to ensure all lines are processed\n",
    "total_lines  = 0\n",
    "\n",
    "with open (csvfilepath,\"w\") as f:\n",
    "    for line in  resp.iter_lines ():\n",
    "        dline = line.decode('cp1252')\n",
    "        if coursematch.fullmatch(dline):\n",
    "            # Add one to the lines counter.\n",
    "            total_lines = total_lines + 1\n",
    "            # The course code.\n",
    "            course_code = dline[:5]\n",
    "            # The course title - char 7 is the start of the title section, char 57 is where the longest title ends\n",
    "            # strip is to remove white space at the beginning and end of each line\n",
    "            course_title = dline[7:57].strip()\n",
    "            # Round one points.\n",
    "            course_points = re.split(' +', dline[60:])\n",
    "\n",
    "            #Splitting points into round one and two, where r2 points exist\n",
    "            if len(course_points) != 2:\n",
    "                course_points = course_points[:2]\n",
    "            # Join the fields using a comma.\n",
    "            linesplit = [course_code, course_title, course_points[0], course_points[1]]\n",
    "            # Rejoin the substrings with commas in between.\n",
    "            f.write(','.join(linesplit) + '\\n')\n",
    "\n",
    "# Print the total number of processed lines.\n",
    "print(f\"Total number of lines is {total_lines}.\")"
   ]
  },
  {
   "cell_type": "markdown",
   "id": "915a2df3-ec52-429e-8931-a8beb77e9f69",
   "metadata": {},
   "source": [
    "#### Part 3: Export to Pandas Dataframe\n",
    "\n",
    "Once the course data has been extracted and backed up, it must be converted to a Pandas dataframe to faciliate analysis.\n",
    "\n",
    "To calculate descriptive statistics on the points data, such as mean/standard deviation/max/min, the dataframe columns containing the R1 and R2 points figures must be converted to a numeric data type. To do this, first any non-numeric characters (e.g. #) are removed, then the columns are converted to numeric (type int). These characters in the points columns are used to give further information on the course, e.g. not every applicant meeting the points requirement was accepted. These datapoints are considered separately later in the notebook."
   ]
  },
  {
   "cell_type": "code",
   "execution_count": 8,
   "id": "47e45325-6a9d-441d-baa4-0cb29d3af969",
   "metadata": {},
   "outputs": [],
   "source": [
    "headers = [\"Course_Code\", \"Course_Name\", \"R1_Points21\", \"R2_Points21\"]\n",
    "\n",
    "pointsData21 = pd.read_csv (csvfilepath, sep = ',', names = headers, encoding = 'cp1252')\n",
    "\n",
    "#Keeping a version of the dataframe with the # and * characters to look at these courses separately\n",
    "pointsData21_with_chars = pointsData21\n",
    "\n",
    "#Replacing all non-numeric chars and words with nothing, so I can convert these columns to numeric\n",
    "pointsData21['R1_Points21'] = pointsData21['R1_Points21'].str.replace(r'[^0-9]+', '', regex = True)\n",
    "pointsData21['R2_Points21'] = pointsData21['R2_Points21'].str.replace(r'[^0-9]+','', regex = True)\n",
    "\n",
    "pointsData21['R1_Points21'] = pointsData21['R1_Points21'].str.replace(r'[a-zA-Z]+', '', regex = True)\n",
    "pointsData21['R2_Points21'] = pointsData21['R2_Points21'].str.replace(r'[a-zA-Z]+', '', regex = True)\n",
    "\n",
    "#Changing points columns to numeric\n",
    "pointsData21[[\"R1_Points21\"]] = pointsData21[[\"R1_Points21\"]].apply(pd.to_numeric)\n",
    "pointsData21[[\"R2_Points21\"]] = pointsData21[[\"R2_Points21\"]].apply(pd.to_numeric)\n",
    "\n",
    "pointsData21.to_csv(csvfilepath)"
   ]
  },
  {
   "cell_type": "markdown",
   "id": "84a7f94f-11c1-4276-88e1-9277cfda7fc4",
   "metadata": {},
   "source": [
    "The final step is to print the first 10 columns of the dataframe generated as a sanity check. "
   ]
  },
  {
   "cell_type": "code",
   "execution_count": 23,
   "id": "cb62584c-f48e-4a7c-a995-d827c8869962",
   "metadata": {},
   "outputs": [
    {
     "name": "stdout",
     "output_type": "stream",
     "text": [
      "  Course_Code                                        Course_Name  R1_Points21  R2_Points21\n",
      "0       AL801     Software Design for Virtual Reality and Gaming        300.0          NaN\n",
      "1       AL802  Software Design in Artificial Intelligence for...        313.0          NaN\n",
      "2       AL803  Software Design for Mobile Apps and Connected ...        350.0          NaN\n",
      "3       AL805    Computer Engineering for Network Infrastructure        321.0          NaN\n",
      "4       AL810                                 Quantity Surveying        328.0          NaN\n",
      "5       AL811                                  Civil Engineering          NaN          NaN\n",
      "6       AL820                 Mechanical and Polymer Engineering        327.0          NaN\n",
      "7       AL830                                    General Nursing        451.0        444.0\n",
      "8       AL832                              Mental Health Nursing        440.0        431.0\n",
      "9       AL835                                       Pharmacology        356.0          NaN\n"
     ]
    }
   ],
   "source": [
    "#Printing first 10 columns of dataframe to ensure it makes sense\n",
    "\n",
    "with pd.option_context('expand_frame_repr', False):\n",
    "    print(pointsData21[[\"Course_Code\", \"Course_Name\", \"R1_Points21\", \"R2_Points21\"]].head(n = 10))"
   ]
  },
  {
   "cell_type": "markdown",
   "id": "0cbb68b9-8492-488d-bc7d-d4df019d87ac",
   "metadata": {},
   "source": [
    "\n",
    "#### 2020 Points\n",
    "\n",
    "The steps in retrieving the 2020 points data are similar, except the format on the CAO website is Excel rather than HTML.\n",
    "\n",
    "To extract the Excel data, an inbuilt pandas function is used called pd.read_excel(), to which the address of the Excel file on the CAO website is passed as an argument.\n",
    "\n",
    "In the version on the CAO website, the first 9 rows contain instructions for interpreting the file, as seen below. Therefore, when reading the CAO file, only lines from Row 10 onwards wil be used to generate the dataframe."
   ]
  },
  {
   "attachments": {
    "aa779e80-3656-4ce2-88cb-29074ef7190f.PNG": {
     "image/png": "[encoded data removed]"
    }
   },
   "cell_type": "markdown",
   "id": "045ce752-7cbb-4c40-b853-aac66da99c5e",
   "metadata": {},
   "source": [
    "##### Figure 2: 2020 Points Screen Capture\n",
    "![Points 2020 Screen Capture.PNG](attachment:aa779e80-3656-4ce2-88cb-29074ef7190f.PNG)"
   ]
  },
  {
   "cell_type": "markdown",
   "id": "56e2041c-758e-460a-9e36-f3046b3fe636",
   "metadata": {},
   "source": [
    "The code for generating the backup file destinations and reading the 2020 points data into a Pandas dataframe is given below. \n",
    "\n",
    "The last line is a check to ensure all the rows were outputted to the dataframe - excluding the instructions and header column, the file consisted of 1464 rows. "
   ]
  },
  {
   "cell_type": "code",
   "execution_count": 14,
   "id": "65b32b24-242e-49de-9a0d-f62f264e919c",
   "metadata": {},
   "outputs": [
    {
     "name": "stdout",
     "output_type": "stream",
     "text": [
      "Total Rows Processed : 1464\n"
     ]
    }
   ],
   "source": [
    "timenow = dt.datetime.now()\n",
    "nowstrng = timenow.strftime('%Y%m%d_%H%M%S')\n",
    "\n",
    "#Get current file path to construct backup file destination paths\n",
    "currentpath = os.getcwd()\n",
    "\n",
    "#Constructing filepath\n",
    "filepath  = currentpath + '\\\\' + 'Points_Data' + '\\\\' +'cao2020'+ nowstrng + '.html'\n",
    "csvfilepath = currentpath + '\\\\' + 'Points_Data' + '\\\\' +'cao2020' + nowstrng + '.csv'\n",
    "pandasfilepath = currentpath + '\\\\' + 'Points_Data' + '\\\\' +'cao2020_Pandasdf' + nowstrng + '.csv'\n",
    "\n",
    "df2020 = pd.read_excel('http://www2.cao.ie/points/CAOPointsCharts2020.xlsx', header = 10, dtype = str)\n",
    "df2020.to_csv(csvfilepath, encoding = 'utf-8', index = False)\n",
    "print(\"Total Rows Processed : {}\".format(len(df2020.index)))"
   ]
  },
  {
   "cell_type": "markdown",
   "id": "f2fa92c3-bf7a-46ea-b3b5-7f7558e2e074",
   "metadata": {},
   "source": [
    "Once the original dataset is backed up to CSV, we can create a new dataframe with only the variables of interest, as seen in the code below. As with the 2020 points data, the R1/R2 points columns must also be converted to numeric to facilitate further analysis. "
   ]
  },
  {
   "cell_type": "code",
   "execution_count": 25,
   "id": "0b0027c1-f443-46fe-97b2-d73153191e8a",
   "metadata": {},
   "outputs": [
    {
     "name": "stdout",
     "output_type": "stream",
     "text": [
      "                                         Course Name Course_Code R1_Points20 R2_Points20\n",
      "0                             International Business       AC120         209         NaN\n",
      "1                                       Liberal Arts       AC137         252         NaN\n",
      "2   First Year Art & Design (Common Entry,portfolio)       AD101    #+matric         NaN\n",
      "3  Graphic Design and Moving Image Design (portfo...       AD102    #+matric         NaN\n",
      "4  Textile & Surface Design and Jewellery & Objec...       AD103    #+matric         NaN\n",
      "5  Education & Design or Fine Art (Second Level T...       AD202    #+matric         NaN\n",
      "6                               Fine Art (portfolio)       AD204    #+matric         NaN\n",
      "7                         Fashion Design (portfolio)       AD211    #+matric         NaN\n",
      "8                         Product Design (portfolio)       AD212    #+matric         NaN\n",
      "9                                     Visual Culture       AD215         377         320\n"
     ]
    }
   ],
   "source": [
    "#Only interested in L8 courses so filtering out other levels\n",
    "points2020 = df2020[df2020[\"LEVEL\"] == \"8\"]\n",
    "\n",
    "#Creating a new version of the dataframe with only the columns I'll use for analysis\n",
    "points2020 = df2020.filter(['COURSE TITLE', 'COURSE CODE2', 'R1 POINTS', 'R2 POINTS', 'CATEGORY (i.e.ISCED description)', \"HEI\"])\n",
    "points2020.to_csv(pandasfilepath, encoding = 'utf-8', index = False )\n",
    "\n",
    "# Keeping a version of the dataframe with non-numeric characters to do further analysis on those courses\n",
    "points2020_with_chars = points2020\n",
    "points2020_with_chars = points2020.rename(columns = {\"COURSE TITLE\": \"Course Name\", \"COURSE CODE2\": \"Course_Code\", \"R1 POINTS\": \"R1_Points20\", \"R2 POINTS\": \"R2_Points20\"})\n",
    "\n",
    "#Removing all non-numeric chars to get descriptive stats on points\n",
    "points2020['R1 POINTS'] = points2020['R1 POINTS'].str.replace(r'[^0-9]+', '', regex = True)\n",
    "points2020['R2 POINTS'] = points2020['R2 POINTS'].str.replace(r'[^0-9]+','', regex = True)\n",
    "\n",
    "points2020['R1 POINTS'] = points2020['R1 POINTS'].str.replace(r'[a-zA-Z]+', '', regex = True)\n",
    "points2020['R2 POINTS'] = points2020['R2 POINTS'].str.replace(r'[a-zA-Z]+', '', regex = True)\n",
    "\n",
    "#Changing some of the names to match the other two years and converting points columns to numeric\n",
    "points2020 = points2020.rename(columns = {\"COURSE TITLE\": \"Course Name\", \"COURSE CODE2\": \"Course_Code\", \"R1 POINTS\": \"R1_Points20\", \"R2 POINTS\": \"R2_Points20\"})\n",
    "points2020[[\"R1_Points20\"]] = points2020[[\"R1_Points20\"]].apply(pd.to_numeric)\n",
    "points2020[[\"R2_Points20\"]] = points2020[[\"R2_Points20\"]].apply(pd.to_numeric)\n",
    "\n",
    "#Sanity Check on DF columns\n",
    "with pd.option_context('expand_frame_repr', False):\n",
    "    print(points2020_with_chars[[\"Course Name\", \"Course_Code\", \"R1_Points20\", \"R2_Points20\"]].head(n = 10))"
   ]
  },
  {
   "cell_type": "markdown",
   "id": "ca1cc344-614d-4f36-9f8e-9c4edf887285",
   "metadata": {
    "tags": []
   },
   "source": [
    "#### 2019 Points\n",
    "\n",
    "The 2019 points data is in a PDF format. To process the data from this year and convert it to a dataframe, I'm using the Tabula module. \n",
    "\n",
    "Tabula allows you to read data in a table format from a PDF file, and convert it to a Pandas dataframe.\n",
    "\n",
    "[Link to Tabula Docs](https://tabula-py.readthedocs.io/en/latest/)\n",
    "\n",
    "Before converting the 2019 points to a Pandas dataframe, the latest version of the PDF file on the CAO website must be downloaded and saved to the backup folder. For this, the urllib.request module for opening/reading URLS can be used. \n",
    "\n",
    "[Link to Urllib Request Docs](https://docs.python.org/3/library/urllib.request.html#module-urllib.request)\n",
    "\n",
    "Below is the code that can be used to retrieve the 2019 points data from the CAO website, save the backup PDF file and convert it to a Pandas dataframe. The function download_file takes the web address of the 2019 points data as a parameter, opens the file and saves it locally as a PDF, which is then converted by Tabula to a PDF file. "
   ]
  },
  {
   "cell_type": "code",
   "execution_count": 33,
   "id": "217d7f4d-1bd1-4b2a-8f4c-837968149dda",
   "metadata": {},
   "outputs": [
    {
     "name": "stdout",
     "output_type": "stream",
     "text": [
      "Total Lines Processed: 948\n",
      "Total Rows Remaining : 914\n"
     ]
    }
   ],
   "source": [
    "import urllib\n",
    "import urllib.request\n",
    "import tabula\n",
    "\n",
    "currentpath = os.getcwd()\n",
    "timenow = dt.datetime.now()\n",
    "nowstrng = timenow.strftime('%Y%m%d_%H%M%S')\n",
    "\n",
    "#Constructing filepaths to backup PDF file and dataframe\n",
    "pdffilepath = currentpath + '\\\\' + 'Points_Data' + '\\\\' +  'cao2019' + nowstrng + '.pdf'\n",
    "csvfilepath = currentpath  + '\\\\' + 'Points_Data' + '\\\\' + 'cao2019' + nowstrng + '.csv'\n",
    "wcharsfilepath = currentpath  + '\\\\' + 'Points_Data' + '\\\\' + 'cao2019_wchars' + nowstrng + '.csv'\n",
    "\n",
    "\n",
    "#Function that takes a web address as a parameter\n",
    "#Purpose is to download the data and save it as a PDF file locally\n",
    "#Then can use Tabula to convert to DF\n",
    "def download_file(download_url):\n",
    "    response = urllib.request.urlopen(download_url)\n",
    "    file = open(pdffilepath, 'wb')\n",
    "    file.write(response.read())\n",
    "    file.close()\n",
    "\n",
    "    #Reading the PDF data and converting it to a dataframe\n",
    "    #Count is to keep track of rows in dataframe - should have 948\n",
    "    pointsdf = tabula.read_pdf(pdffilepath, pages = 'all')\n",
    "    count = 0\n",
    "\n",
    "    #Extracting only the columns that I'm interested in for further analysis\n",
    "    colnames = [\"Course_Code\", \"Course Name\", \"R1_Points19\", \"R2_Points19\"]\n",
    "\n",
    "\n",
    "    list = []\n",
    "\n",
    "    for item in pointsdf:\n",
    "        for info in item.values: \n",
    "            list.append(info) \n",
    "            count = count + 1\n",
    "        \n",
    "        points2019 = pd.DataFrame (list, columns=colnames)\n",
    "        points2019.to_csv(csvfilepath, encoding = 'utf-8', index = False)\n",
    "    \n",
    "    print(\"Total Lines Processed: {}\".format(count))\n",
    "\n",
    "    return points2019\n",
    "    \n",
    "\n",
    "points2019 = download_file(download_url= 'http://www2.cao.ie/points/lvl8_19.pdf')\n",
    "\n",
    "#Removing any rows that don't have a course code in them - these are the college names only\n",
    "points2019.dropna(subset = [\"Course_Code\"], inplace=True)\n",
    "print(\"Total Rows Remaining : {}\".format(len(points2019.index)))\n",
    "\n",
    "#Want to preserve version of dataset with chars like # and * so these can be analysed separately\n",
    "points2019_with_chars = points2019\n",
    "\n",
    "#Issue with a few of the rows where # + matric was split over the \n",
    "#R1 and R2 points columns, fixing this using find and replace\n",
    "points2019_with_chars ['R1_Points19']  = points2019['R1_Points19'].str.replace(\"# +mat\", \"# +matric\", regex = False)\n",
    "points2019_with_chars ['R2_Points19'] = points2019['R2_Points19'].str.replace(\"ic \", \"\", regex = False)\n",
    "\n",
    "points2019_with_chars.to_csv(wcharsfilepath, encoding = 'utf-8', index = False)\n",
    "\n",
    "#Removing all non-numeric chars so cols can be converted to dataframe format\n",
    "points2019['R1_Points19'] = points2019['R1_Points19'].str.replace(r'[^0-9]+', '', regex = True)\n",
    "points2019['R2_Points19'] = points2019['R2_Points19'].str.replace(r'[^0-9]+','', regex = True)\n",
    "\n",
    "points2019['R1_Points19'] = points2019['R1_Points19'].str.replace(r'[a-zA-Z]+', '', regex = True)\n",
    "points2019['R2_Points19'] = points2019['R2_Points19'].str.replace(r'[a-zA-Z]+', '', regex = True)\n",
    "\n",
    "\n",
    "points2019[[\"R1_Points19\"]] = points2019[[\"R1_Points19\"]].apply(pd.to_numeric)\n",
    "points2019[[\"R2_Points19\"]] = points2019[[\"R2_Points19\"]].apply(pd.to_numeric)"
   ]
  },
  {
   "cell_type": "markdown",
   "id": "b531a59a-b504-4b8e-91db-1e7b2d75af15",
   "metadata": {},
   "source": [
    "Finally, the first 10 lines of the dataframe are printed to ensure they are as expected. "
   ]
  },
  {
   "cell_type": "code",
   "execution_count": 32,
   "id": "fb989e70-aba4-45d3-ace9-c5176375078e",
   "metadata": {},
   "outputs": [
    {
     "name": "stdout",
     "output_type": "stream",
     "text": [
      "   Course_Code                                        Course Name  R1_Points19  R2_Points19\n",
      "1        AL801    Software Design with Virtual Reality and Gaming        304.0          NaN\n",
      "2        AL802               Software Design with Cloud Computing        301.0          NaN\n",
      "3        AL803  Software Design with Mobile Apps and Connected...        309.0          NaN\n",
      "4        AL805        Network Management and Cloud Infrastructure        329.0          NaN\n",
      "5        AL810                                 Quantity Surveying        307.0          NaN\n",
      "6        AL820                 Mechanical and Polymer Engineering        300.0          NaN\n",
      "7        AL830                                    General Nursing        410.0          NaN\n",
      "8        AL832                                Psychiatric Nursing        387.0          NaN\n",
      "9        AL836                       Nutrition and Health Science        352.0          NaN\n",
      "10       AL837            Sports Science with Exercise Physiology        351.0          NaN\n"
     ]
    }
   ],
   "source": [
    "with pd.option_context('expand_frame_repr', False):\n",
    "    print(points2019_with_chars.head(n = 10))"
   ]
  },
  {
   "cell_type": "markdown",
   "id": "2f8b80f6-c7f5-436a-9378-ce501116ee8f",
   "metadata": {
    "tags": []
   },
   "source": [
    "## Part 2: Analysis and Discussion\n",
    "\n",
    "This section of the notebook will analyze the three CAO dataframes and discuss the results.\n",
    "\n",
    "### Distribution of Points Data - 2019, 2021 and 2021\n",
    "\n",
    "The first research question is focused on the distribution of R1 and R2 points data over the past three years:\n",
    " - For each year and round, what were the overall mean, mode, median and standard deviation values?\n",
    " - Are outliers present in the dataset?\n",
    " - How did this distribution change between 2019 and 2021 - did points increase or decrease?\n",
    " \n",
    " "
   ]
  },
  {
   "cell_type": "markdown",
   "id": "a9a3c9d3-9d77-4278-9578-18aefa774e9c",
   "metadata": {},
   "source": [
    "The below function outputs descriptive statistics for the Points columns. It takes three parameters:\n",
    " - x: Dataframe to analyse\n",
    " - yr: Year\n",
    " - r: Round 1 or 2, to clarify output text\n",
    "\n",
    "The dataframes containing the numeric type columns for R1 and R2 are used so the descriptive statistics can be calculated. "
   ]
  },
  {
   "cell_type": "code",
   "execution_count": 52,
   "id": "2aa8b040-34b1-42b8-822f-36a3240c8885",
   "metadata": {},
   "outputs": [],
   "source": [
    "import pandas as pd\n",
    "from pandas.core.reshape import merge\n",
    "import numpy as np\n",
    "from numpy import random\n",
    "import matplotlib.pyplot as plt\n",
    "import seaborn as sns\n",
    "\n",
    "\n",
    "def descriptiveStats (x, yr, r):\n",
    "    np.set_printoptions(precision = 2)\n",
    "    mean = np.mean(x)\n",
    "    std = np.std(x)\n",
    "    median = x.median()\n",
    "    #tolist() function is to stop the datatype from being outputted with the mode value\n",
    "    mode = x.mode().values[0].tolist()\n",
    "    output = \"\"\"\n",
    "    Year: {0}\n",
    "    Points Round: {1}\n",
    "    Mean Points Value :  {2}\n",
    "    Standard Deviation : {3}\n",
    "    Median : {4}\n",
    "    Mode : {5}\n",
    "    \"\"\".format(yr, r, round(mean,2), round(std, 2), median, mode)\n",
    "    print(output)"
   ]
  },
  {
   "cell_type": "markdown",
   "id": "4b208179-bc59-48ef-9fb8-96efd9222223",
   "metadata": {},
   "source": [
    "Below, the function is called for the R1 points data."
   ]
  },
  {
   "cell_type": "code",
   "execution_count": 39,
   "id": "e7873181-d3dd-418a-8d11-f74b8edd74a7",
   "metadata": {},
   "outputs": [
    {
     "name": "stdout",
     "output_type": "stream",
     "text": [
      "\n",
      "    Year: 2019\n",
      "    Points Round: 1\n",
      "    Mean Points Value :  375.62\n",
      "    Standard Deviation : 124.21\n",
      "    Median : 348.0\n",
      "    Mode : 300.0\n",
      "    \n",
      "\n",
      "    Year: 2020\n",
      "    Points Round: 1\n",
      "    Mean Points Value :  351.0\n",
      "    Standard Deviation : 134.39\n",
      "    Median : 316.5\n",
      "    Mode : 300.0\n",
      "    \n",
      "\n",
      "    Year: 2021\n",
      "    Points Round: 1\n",
      "    Mean Points Value :  407.67\n",
      "    Standard Deviation : 128.64\n",
      "    Median : 391.0\n",
      "    Mode : 300.0\n",
      "    \n"
     ]
    }
   ],
   "source": [
    "descriptiveStats(x = points2019[\"R1_Points19\"], yr = \"2019\", r = \"1\")\n",
    "descriptiveStats(x = points2020[\"R1_Points20\"], yr = \"2020\", r = \"1\")\n",
    "descriptiveStats(x = pointsData21[\"R1_Points21\"], yr = \"2021\", r = \"1\")"
   ]
  },
  {
   "cell_type": "markdown",
   "id": "ffa2eb57-bdda-4e81-8aac-15ebeed61756",
   "metadata": {},
   "source": [
    "The descriptive statistics provide the following insights into CAO point trends over the last three years: \n",
    "- The mean and median points values decreased between 2019 and 2021. This is surprising as at the time it was expected the calculated Leaving Cert grades students were given due to Covid would drive up points for courses, but this doesn't appear to have been the case. There were 1250 extra places released for higher-demand courses, which may have offset the overall rise in student grades. Additionally, the final grades were standardized to bring them into line with previous years; this may have prevented an increase in the required points for courses.\n",
    "- However, there is a significant rise both the mean and median points values from 2020 to 2021. This is most likely because of the approach taken by the Department of Education to this year's Leaving Cert where students had a choice between calculated grades and written exams, and were allowed to choose whichever outcome gave them the highest grade. As a result, the proportion of students achieving high grades increased significantly. \n",
    "- We can verify that student points dramatically increased in 2021 using data published on the CAO website. Each year, the total students within each points bracket is provided (600+, 500-599, 400-499 etc)."
   ]
  },
  {
   "cell_type": "code",
   "execution_count": 62,
   "id": "e8249f6d-ebd4-434c-9a0c-f3af798e3549",
   "metadata": {},
   "outputs": [
    {
     "name": "stdout",
     "output_type": "stream",
     "text": [
      "Points Breakdown : 2021\n",
      "                        Points_Range Total_2021 Percentage Cumulative Total Cumulative Percentage\n",
      "0      Candidates scoring 625 points      1,342       2.3%            1,342                  2.3%\n",
      "1  Candidates scoring from 600 - 624      1,988       3.4%            3,330                  5.7%\n",
      "2  Candidates scoring from 500 - 599     12,133      20.9%           15,463                 26.7%\n",
      "3  Candidates scoring from 400 - 499     16,189      27.9%           31,652                 54.6%\n",
      "4  Candidates scoring from 300 - 399     12,865      22.2%           44,517                 76.8%\n",
      "5  Candidates scoring from 200 - 299      7,544      13.0%           52,061                 89.8%\n",
      "\n",
      "\n",
      "Points Breakdown : 2020\n",
      "                        Points_Range Total_2020 Percentage Cumulative Total Cumulative Percentage\n",
      "0      Candidates scoring 625 points        577       1.0%              577                  1.0%\n",
      "1  Candidates scoring from 600 - 624      1,235       2.1%            1,812                  3.1%\n",
      "2  Candidates scoring from 500 - 599      9,512      16.5%           11,324                 19.7%\n",
      "3  Candidates scoring from 400 - 499     15,932      27.7%           27,256                 47.3%\n",
      "4  Candidates scoring from 300 - 399     14,229      24.7%           41,485                 72.1%\n",
      "5  Candidates scoring from 200 - 299      9,068      15.8%           50,553                 87.8%\n",
      "\n",
      "\n",
      "Points Breakdown : 2019\n",
      "                        Points_Range Total_2019 Percentage Cumulative Total Cumulative Percentage\n",
      "0      Candidates scoring 625 points        207       0.4%              207                  0.4%\n",
      "1  Candidates scoring from 600 - 624        574       1.0%              781                  1.4%\n",
      "2  Candidates scoring from 500 - 599      6,684      11.9%            7,465                 13.3%\n",
      "3  Candidates scoring from 400 - 499     13,489      24.1%           20,954                 37.4%\n",
      "4  Candidates scoring from 300 - 399     14,266      25.4%           35,220                 62.8%\n",
      "5  Candidates scoring from 200 - 299     10,732      19.1%           45,952                 82.0%\n",
      "\n",
      "\n"
     ]
    }
   ],
   "source": [
    "def download_student_data(download_url, yr):\n",
    "    response = urllib.request.urlopen(download_url)\n",
    "    file = open(pdffilepath, 'wb')\n",
    "    file.write(response.read())\n",
    "    file.close()\n",
    "\n",
    "    #Reading the PDF data and converting it to a dataframe\n",
    "    #Count is to keep track of rows in dataframe - should have 948\n",
    "    pointsdf = tabula.read_pdf(pdffilepath, pages = 'all',pandas_options= {'header': None})\n",
    "    colnames = [\"Points_Range\", \"Total_{}\".format(yr), \"Percentage\", \"Cumulative Total\", \"Cumulative Percentage\"]\n",
    "    list = []\n",
    "\n",
    "    for item in pointsdf:\n",
    "        for info in item.values: \n",
    "            list.append(info) \n",
    "\n",
    "    studentpoints = pd.DataFrame (list, columns=colnames)\n",
    "    print(\"Points Breakdown : {}\".format(yr))\n",
    "    with pd.option_context('expand_frame_repr', False):\n",
    "        print(studentpoints.head(n = 6))\n",
    "    print(\"\\n\")\n",
    "    return studentpoints.head(n = 6)\n",
    "\n",
    "students_points_2021 = download_student_data(\"http://www2.cao.ie/app_scoring/points_stats/lc21pts.pdf\", yr = \"2021\")\n",
    "students_points_2020 = download_student_data(\"http://www2.cao.ie/app_scoring/points_stats/lc20pts.pdf\", yr = \"2020\")\n",
    "students_points_2019 = download_student_data(\"http://www2.cao.ie/app_scoring/points_stats/lc19pts.pdf\", yr = \"2019\")\n",
    "\n",
    "merge_1 = pd.merge(students_points_2021, students_points_2020, on = \"Points_Range\")\n",
    "merge_2= pd.merge(merge_1, students_points_2019, on = \"Points_Range\")"
   ]
  },
  {
   "cell_type": "markdown",
   "id": "bafdeb1e-0369-4598-b0e8-44798174273f",
   "metadata": {},
   "source": [
    "We can see that the proportion of candidates scoring 500+ points increases significantly between 2019 and 2021. "
   ]
  },
  {
   "cell_type": "code",
   "execution_count": 61,
   "id": "032be88d-774e-4691-a76a-00f9e98a35ab",
   "metadata": {},
   "outputs": [
    {
     "data": {
      "image/png": "[encoded data removed]",
      "text/plain": [
       "<Figure size 1080x432 with 1 Axes>"
      ]
     },
     "metadata": {
      "needs_background": "light"
     },
     "output_type": "display_data"
    }
   ],
   "source": [
    "import matplotlib.pyplot as plt\n",
    "from matplotlib import rcParams\n",
    "merge_1 = pd.merge(students_points_2021, students_points_2020, on = \"Points_Range\")\n",
    "merge_2= pd.merge(merge_1, students_points_2019, on = \"Points_Range\")\n",
    "\n",
    "plt.rcParams['figure.figsize'] = [15, 6]\n",
    "fig, ax = plt.subplots()\n",
    "student_points_melt = pd.melt(merge_2, id_vars=[\"Points_Range\"], value_vars = [\"Total_2019\", \"Total_2020\", \"Total_2021\"])\n",
    "student_points_melt['value']  = student_points_melt['value'].str.replace(\",\", \"\", regex = False)\n",
    "student_points_melt[\"value\"] = pd.to_numeric(student_points_melt[\"value\"], downcast = \"integer\")\n",
    "yr_order = [\"Total_2019\", \"Total_2020\", \"Total_2021\"]\n",
    "sns.barplot(data = student_points_melt, x = \"variable\", y= \"value\", hue = \"Points_Range\", order = yr_order, palette = \"pastel\")\n",
    "plt.legend(loc='upper left')\n",
    "sns.despine()\n",
    "plt.suptitle(\"Cao Points Breakdown 2019 - 2021\")\n",
    "plt.show()\n",
    "plt.close()"
   ]
  },
  {
   "cell_type": "code",
   "execution_count": null,
   "id": "e1e12c93-d205-4fc7-a28e-c581f17c9ad7",
   "metadata": {},
   "outputs": [],
   "source": []
  }
 ],
 "metadata": {
  "kernelspec": {
   "display_name": "Python 3 (ipykernel)",
   "language": "python",
   "name": "python3"
  },
  "language_info": {
   "codemirror_mode": {
    "name": "ipython",
    "version": 3
   },
   "file_extension": ".py",
   "mimetype": "text/x-python",
   "name": "python",
   "nbconvert_exporter": "python",
   "pygments_lexer": "ipython3",
   "version": "3.8.12"
  }
 },
 "nbformat": 4,
 "nbformat_minor": 5
}
